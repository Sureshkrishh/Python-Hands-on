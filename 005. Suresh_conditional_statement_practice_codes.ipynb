{
 "cells": [
  {
   "cell_type": "code",
   "execution_count": null,
   "metadata": {},
   "outputs": [],
   "source": [
    "# Operator Precedence\n",
    "# ()\n",
    "# **\n",
    "# ~,- Bitwise complement and unary Minus\n",
    "# *,/,%,//\n",
    "# +,-\n",
    "# <<,>>\n",
    "# &\n",
    "# ^\n",
    "# |\n",
    "# >,>=,<,<=,==,!=\n",
    "# =,+=,-=...\n",
    "# is, is not\n",
    "# in, not in\n",
    "# not\n",
    "# and\n",
    "# or\n",
    "\n",
    "# Conditional statements, loop,"
   ]
  },
  {
   "cell_type": "code",
   "execution_count": 1,
   "metadata": {},
   "outputs": [
    {
     "name": "stdout",
     "output_type": "stream",
     "text": [
      "Enter a number: 30\n",
      "30 is not divisible by 5 and 11\n"
     ]
    }
   ],
   "source": [
    "# WAP to check whether a number is divisible by 5 and 11\n",
    "\n",
    "num = int(input('Enter a number: '))\n",
    "if num%5 == 0 and num%11 == 0:\n",
    "    print(f'{num} is divisible by 5 and 11')\n",
    "else:\n",
    "    print(f'{num} is not divisible by 5 and 11')"
   ]
  },
  {
   "cell_type": "code",
   "execution_count": 2,
   "metadata": {},
   "outputs": [
    {
     "name": "stdout",
     "output_type": "stream",
     "text": [
      "Enter a alphabet: '\n",
      "' is not an alphabet\n"
     ]
    }
   ],
   "source": [
    "# Write a program to check whether a character is alphabet or not.\n",
    "\n",
    "alp = str(input('Enter a alphabet: '))\n",
    "if (chr(64)<alp<chr(91)) or (chr(96)<alp<chr(123)):\n",
    "    print(f'{alp} is an alphabet')\n",
    "else:\n",
    "    print(f'{alp} is not an alphabet')\n"
   ]
  },
  {
   "cell_type": "code",
   "execution_count": 3,
   "metadata": {},
   "outputs": [
    {
     "name": "stdout",
     "output_type": "stream",
     "text": [
      "Enter a number: 89\n",
      "89 is not an odd number\n"
     ]
    }
   ],
   "source": [
    "# Write a program to check whether a number is even or odd.\n",
    "\n",
    "num = int(input('Enter a number: '))\n",
    "if num%2==0:\n",
    "    print(f'{num} is an odd number')\n",
    "else:\n",
    "    print(f'{num} is not an odd number')"
   ]
  },
  {
   "cell_type": "code",
   "execution_count": 4,
   "metadata": {},
   "outputs": [
    {
     "name": "stdout",
     "output_type": "stream",
     "text": [
      "Enter a alphabet: y\n",
      "y is constant\n"
     ]
    }
   ],
   "source": [
    "# Write a program to input any alphabet and check whether it is vowel or consonant.\n",
    "\n",
    "\n",
    "alp = str(input('Enter a alphabet: '))\n",
    "\n",
    "if (alp=='a' or alp=='e' or alp=='i' or alp=='o' or alp=='u'):\n",
    "    print(f'{alp} is vowel')\n",
    "elif (alp=='A' or alp=='E' or alp=='I' or alp=='O' or alp=='U'):\n",
    "    print(f'{alp} is vowel')\n",
    "else:\n",
    "    print(f'{alp} is constant') \n"
   ]
  },
  {
   "cell_type": "code",
   "execution_count": 5,
   "metadata": {},
   "outputs": [
    {
     "name": "stdout",
     "output_type": "stream",
     "text": [
      "Enter a character: \\\n",
      "\\ is special character\n"
     ]
    }
   ],
   "source": [
    "# Write a program to input any character and check whether it is alphabet, digit or special character.\n",
    "\n",
    "chrr = input('Enter a character: ')\n",
    "if (chr(64)<chrr<chr(91)) or (chr(96)<chrr<chr(123)):\n",
    "    print(f'{chrr} is alphabet')\n",
    "elif (chr(47)<chrr<chr(58)):\n",
    "    print(f'{chrr} is digit')\n",
    "elif (chr(32)<chrr<chr(48)) or (chr(57)<chrr<chr(65)) or (chr(90)<chrr<chr(97)) or (chr(122)<chrr<chr(127)):\n",
    "    print(f'{chrr} is special character')\n",
    "else:\n",
    "    print(f'{chrr} is not printable')"
   ]
  },
  {
   "cell_type": "code",
   "execution_count": 6,
   "metadata": {},
   "outputs": [
    {
     "name": "stdout",
     "output_type": "stream",
     "text": [
      "Enter a alphabet: K\n",
      "K is upper case\n"
     ]
    }
   ],
   "source": [
    "# Write a  program to check whether a character is uppercase or lowercase alphabet.\n",
    "\n",
    "alp = str(input('Enter a alphabet: '))\n",
    "if (chr(64)<alp<chr(91)):\n",
    "    print(f'{alp} is upper case')\n",
    "elif (chr(96)<alp<chr(123)):\n",
    "    print(f'{alp} is lower case')\n",
    "else:\n",
    "    print(f'{alp} is not an alphabet')"
   ]
  },
  {
   "cell_type": "code",
   "execution_count": 11,
   "metadata": {},
   "outputs": [
    {
     "name": "stdout",
     "output_type": "stream",
     "text": [
      "Enter a day between 1-7: 5\n",
      "Friday\n"
     ]
    }
   ],
   "source": [
    "# Write a program to input week number and print week day.\n",
    "\n",
    "day = int(input('Enter a day between 1-7: '))\n",
    "f = ['','Monday','Tuesday','Wednesday','Thursday','Friday','Saturday','Sunday']\n",
    "if 0<day<=7: \n",
    "    print(f[day])\n",
    "else:\n",
    "    print(f'There are only 7 days in a week, not {day} days')\n"
   ]
  },
  {
   "cell_type": "code",
   "execution_count": 12,
   "metadata": {},
   "outputs": [
    {
     "name": "stdout",
     "output_type": "stream",
     "text": [
      "Enter a month number between 1-12: 8\n",
      "This month has 31 days\n"
     ]
    }
   ],
   "source": [
    "# Write a program to input month number and print number of days in that month.\n",
    "\n",
    "month = int(input('Enter a month number between 1-12: '))\n",
    "h = [1,3,5,7,8,10,12]\n",
    "l = [4,6,9,11]\n",
    "if month in h:\n",
    "    print('This month has 31 days')\n",
    "elif month == 2:\n",
    "    print('This month has 28 days if its not a leap year')\n",
    "elif month in l:\n",
    "    print('This month has 30 days')\n",
    "else:\n",
    "    print(f'There are only 12 months in a year, not {month} months')"
   ]
  },
  {
   "cell_type": "code",
   "execution_count": 13,
   "metadata": {},
   "outputs": [
    {
     "name": "stdout",
     "output_type": "stream",
     "text": [
      "Enter first angle: 56\n",
      "Enter second angle: 25\n",
      "Enter third angle: 86\n",
      "The triangle is not valid\n"
     ]
    }
   ],
   "source": [
    "# Write a program to input angles of a triangle and check whether triangle is valid or not.\n",
    "\n",
    "x = int(input('Enter first angle: '))\n",
    "y = int(input('Enter second angle: '))\n",
    "z = int(input('Enter third angle: '))\n",
    "\n",
    "if (x+y+z) == 180:\n",
    "    print('The triangle is valid')\n",
    "else:\n",
    "    print('The triangle is not valid')"
   ]
  },
  {
   "cell_type": "code",
   "execution_count": 15,
   "metadata": {},
   "outputs": [
    {
     "name": "stdout",
     "output_type": "stream",
     "text": [
      "Enter the value of a: 10\n",
      "Enter the value of b: 30\n",
      "Enter the value of c: 10\n",
      "Since dis > 0 the equation has two roots -38.19660112501051 and -261.8033988749895\n"
     ]
    }
   ],
   "source": [
    "# Write a program to find all roots of a quadratic equation.\n",
    "\n",
    "#QUADRATIC EQUATION ----> (ax^2)+(bx)+(c) = 0\n",
    "\n",
    "a = int(input('Enter the value of a: '))\n",
    "b = int(input('Enter the value of b: '))\n",
    "c = int(input('Enter the value of c: '))\n",
    "\n",
    "dis = b**2 - 4*a*c\n",
    "from math import sqrt\n",
    "if dis > 0:\n",
    "    sq1 = ((-b)+(sqrt(dis)))/2*a\n",
    "    sq2 = ((-b)-(sqrt(dis)))/2*a\n",
    "    print(f'Since dis > 0 the equation has two roots {sq1} and {sq2}')\n",
    "elif dis == 0:\n",
    "    sq1 = ((-b)/2*a)\n",
    "    print(f'Since dis == 0 the equation has one root {sq1}')\n",
    "else:\n",
    "    print('The quadratic equation has no real solution')"
   ]
  }
 ],
 "metadata": {
  "kernelspec": {
   "display_name": "Python 3",
   "language": "python",
   "name": "python3"
  },
  "language_info": {
   "codemirror_mode": {
    "name": "ipython",
    "version": 3
   },
   "file_extension": ".py",
   "mimetype": "text/x-python",
   "name": "python",
   "nbconvert_exporter": "python",
   "pygments_lexer": "ipython3",
   "version": "3.8.10"
  }
 },
 "nbformat": 4,
 "nbformat_minor": 2
}
