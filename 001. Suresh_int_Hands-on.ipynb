{
 "cells": [
  {
   "cell_type": "code",
   "execution_count": 3,
   "metadata": {
    "colab": {
     "base_uri": "https://localhost:8080/",
     "height": 50
    },
    "colab_type": "code",
    "executionInfo": {
     "elapsed": 1515,
     "status": "ok",
     "timestamp": 1593628574263,
     "user": {
      "displayName": "Sureshkrishna K",
      "photoUrl": "https://lh3.googleusercontent.com/a-/AOh14Ghlb6-RdxEGYxEaVezys0OfL5gME8KBXXh3Hzy2pw=s64",
      "userId": "07302376301491105678"
     },
     "user_tz": -330
    },
    "id": "8A5Jw5NR1iEI",
    "outputId": "a8c56e23-0dd3-4306-f2fd-dac842af246d"
   },
   "outputs": [
    {
     "name": "stdout",
     "output_type": "stream",
     "text": [
      "<class 'int'>\n",
      "140728326595248\n"
     ]
    }
   ],
   "source": [
    "#Declare an int value and store it in a variable. \n",
    "x = 10\n",
    "\n",
    "\n",
    "#Check the type and print the id of the same.\n",
    "print(type(x))\n",
    "print(id(x))\n"
   ]
  },
  {
   "cell_type": "code",
   "execution_count": 1,
   "metadata": {
    "colab": {
     "base_uri": "https://localhost:8080/",
     "height": 102
    },
    "colab_type": "code",
    "executionInfo": {
     "elapsed": 1714,
     "status": "ok",
     "timestamp": 1593628910025,
     "user": {
      "displayName": "Sureshkrishna K",
      "photoUrl": "https://lh3.googleusercontent.com/a-/AOh14Ghlb6-RdxEGYxEaVezys0OfL5gME8KBXXh3Hzy2pw=s64",
      "userId": "07302376301491105678"
     },
     "user_tz": -330
    },
    "id": "0YU8LFTn1rAX",
    "outputId": "62913e20-5187-402f-86c1-8c12f6a1f4ad"
   },
   "outputs": [
    {
     "name": "stdout",
     "output_type": "stream",
     "text": [
      "140728326601328\n",
      "140728326601328\n",
      "2142663281808\n",
      "2142663282480\n"
     ]
    }
   ],
   "source": [
    "#Take one int value between 0 - 256.\n",
    "#Assign it to two different variables.\n",
    "#Check the id of both the variables. It should come same. Check why?\n",
    "p = 200\n",
    "q = 200\n",
    "print(id(p))\n",
    "print(id(q))\n",
    "\n",
    "# \"\"\"Python works on object re-usability concept and in python any interger\n",
    "#    between -5 to 256 has the same id if the integer is already declared \n",
    "#    and stored in heap memory\"\"\"\n",
    "\n",
    "#Take one int value either less than -5 or greater than 256.\n",
    "#Assign it to two different variables.\n",
    "#Check the id of both the variables. It should come different.Check why?\n",
    "p1 = 2000\n",
    "q1 = 2000\n",
    "print(id(p1))\n",
    "print(id(q1))\n",
    "\n",
    "# \"\"\"Object re-usability concept in python is applicable only for the integer \n",
    "#   value between -5 and 256. Values lower or greater than this doesnt \n",
    "#   works on re-usability concept\"\"\"\n",
    "\n"
   ]
  },
  {
   "cell_type": "code",
   "execution_count": null,
   "metadata": {
    "colab": {
     "base_uri": "https://localhost:8080/",
     "height": 134
    },
    "colab_type": "code",
    "executionInfo": {
     "elapsed": 1185,
     "status": "ok",
     "timestamp": 1593629132752,
     "user": {
      "displayName": "Sureshkrishna K",
      "photoUrl": "https://lh3.googleusercontent.com/a-/AOh14Ghlb6-RdxEGYxEaVezys0OfL5gME8KBXXh3Hzy2pw=s64",
      "userId": "07302376301491105678"
     },
     "user_tz": -330
    },
    "id": "YzEIG0ZZ1tSK",
    "outputId": "2435c76b-a4a6-464c-c7be-96ad667ad866"
   },
   "outputs": [
    {
     "name": "stdout",
     "output_type": "stream",
     "text": [
      "13\n",
      "7\n",
      "30\n",
      "3.3333333333333335\n",
      "3\n",
      "1\n",
      "1000\n"
     ]
    }
   ],
   "source": [
    "#Arithmatic Operations on integers\n",
    "#Take two different intger values.\n",
    "#Store them in two different variables.\n",
    "a = 10\n",
    "b = 3\n",
    "#Do below operations on them:-\n",
    "    #Find sum of both numbers\n",
    "print(a+b)\n",
    "    #Find differce between them\n",
    "print(a-b)\n",
    "    #Find the product of both numbers.\n",
    "print(a*b)\n",
    "    #Find value after dividing first num with second number\n",
    "print(a/b)\n",
    "    #Find the remainder after dividing first number with second number\n",
    "print(a//b)\n",
    "    #Find the quotient after dividing first number with second number\n",
    "print(a%b)\n",
    "    #Find the result of first num to the power of second number.\n",
    "print(a**b)"
   ]
  },
  {
   "cell_type": "code",
   "execution_count": null,
   "metadata": {
    "colab": {
     "base_uri": "https://localhost:8080/",
     "height": 84
    },
    "colab_type": "code",
    "executionInfo": {
     "elapsed": 1842,
     "status": "ok",
     "timestamp": 1593629352249,
     "user": {
      "displayName": "Sureshkrishna K",
      "photoUrl": "https://lh3.googleusercontent.com/a-/AOh14Ghlb6-RdxEGYxEaVezys0OfL5gME8KBXXh3Hzy2pw=s64",
      "userId": "07302376301491105678"
     },
     "user_tz": -330
    },
    "id": "GGM7CdzA1wGn",
    "outputId": "1773f77b-c602-472b-c6c4-5970791bfd0d"
   },
   "outputs": [
    {
     "name": "stdout",
     "output_type": "stream",
     "text": [
      "False\n",
      "True\n",
      "False\n",
      "True\n"
     ]
    }
   ],
   "source": [
    "#Comparison Operators on integers\n",
    "#Take two different intger values.\n",
    "#Store them in two different variables.\n",
    "m = 100\n",
    "n = 110\n",
    "#Do below operations on them:-\n",
    "    #Compare se two numbers with below operator:-\n",
    "        #Greater than, '>'\n",
    "print(m > n)\n",
    "        #Smaller than, '<'\n",
    "print(m < n)\n",
    "        #Greater than or equal to, '>='\n",
    "print(m >= n)\n",
    "        #Less than or equal to, '<='\n",
    "print(m <= n)\n",
    "#Observe their output(return type should be boolean)"
   ]
  },
  {
   "cell_type": "code",
   "execution_count": null,
   "metadata": {
    "colab": {
     "base_uri": "https://localhost:8080/",
     "height": 50
    },
    "colab_type": "code",
    "executionInfo": {
     "elapsed": 1202,
     "status": "ok",
     "timestamp": 1593629429683,
     "user": {
      "displayName": "Sureshkrishna K",
      "photoUrl": "https://lh3.googleusercontent.com/a-/AOh14Ghlb6-RdxEGYxEaVezys0OfL5gME8KBXXh3Hzy2pw=s64",
      "userId": "07302376301491105678"
     },
     "user_tz": -330
    },
    "id": "9x904sUE1y9t",
    "outputId": "560ded2d-623e-409d-9431-065de02b033b"
   },
   "outputs": [
    {
     "name": "stdout",
     "output_type": "stream",
     "text": [
      "True\n",
      "False\n"
     ]
    }
   ],
   "source": [
    "#Equality Operator\n",
    "#Take two different intger values.\n",
    "#Store them in two different variables.\n",
    "u = 999\n",
    "i = 999\n",
    "#Equuate them using equality operator (==, !=)\n",
    "print(u == i)\n",
    "print(u != i)\n",
    "#Observe the output(return type should be boolean)"
   ]
  },
  {
   "cell_type": "code",
   "execution_count": null,
   "metadata": {
    "colab": {},
    "colab_type": "code",
    "id": "JmQFHUwc11S-"
   },
   "outputs": [],
   "source": [
    "#Logical operators\n",
    "#Observe the output of below code\n",
    "#Cross check the output manually\n",
    "\n",
    "print(10 and 20)       #----------------------------------------->Output is 20\n",
    "#True and True = True (Since first value is not false it looks for second value and prints it)\n",
    "\n",
    "print(0 and 20)        #----------------------------------------->Output is 0\n",
    "#False and True = False (Since first value is false it prints the first value)\n",
    "\n",
    "print(20 and 0)        #----------------------------------------->Output is 0\n",
    "#True and False = False (Since first value is not false it looks for second value and prints it)\n",
    "\n",
    "print(0 and 0)         #----------------------------------------->Output is 0\n",
    "#False and False = False (Since first value is false it prints the first value)\n",
    "\n",
    "print(10 or 20)        #----------------------------------------->Output is 10\n",
    "#True or True = True (Since first value is true it prints the first value)\n",
    "\n",
    "print(0 or 20)         #----------------------------------------->Output is 20\n",
    "#False or True = True (Since first value is not true it looks for the second value and prints it)\n",
    "\n",
    "print(20 or 0)         #----------------------------------------->Output is 20\n",
    "#True or False = True (Since first value is true it prints the first value)\n",
    "\n",
    "print(0 or 0)          #----------------------------------------->Output is 0\n",
    "#False or False = False (Since first value is not true it looks for the second value and prints it)\n",
    "\n",
    "print(not 10)          #----------------------------------------->Output is False\n",
    "#since the operand value is True it prints False\n",
    "\n",
    "print(not 0)           #----------------------------------------->Output is True\n",
    "#since the operand value is False it prints True"
   ]
  },
  {
   "cell_type": "code",
   "execution_count": null,
   "metadata": {
    "colab": {
     "base_uri": "https://localhost:8080/",
     "height": 202
    },
    "colab_type": "code",
    "executionInfo": {
     "elapsed": 1128,
     "status": "ok",
     "timestamp": 1593631327429,
     "user": {
      "displayName": "Sureshkrishna K",
      "photoUrl": "https://lh3.googleusercontent.com/a-/AOh14Ghlb6-RdxEGYxEaVezys0OfL5gME8KBXXh3Hzy2pw=s64",
      "userId": "07302376301491105678"
     },
     "user_tz": -330
    },
    "id": "-0tvoulX14Hi",
    "outputId": "3e5a35a3-f4bb-4b63-f529-345daeaff638"
   },
   "outputs": [
    {
     "name": "stdout",
     "output_type": "stream",
     "text": [
      "0\n",
      "0\n",
      "30\n",
      "30\n",
      "30\n",
      "30\n",
      "-11\n",
      "40\n",
      "40\n",
      "2\n",
      "2\n"
     ]
    }
   ],
   "source": [
    "#Bitwise Operators\n",
    "#Do below operations on the values provided below:-\n",
    "\n",
    "#Bitwise and(&) -----------------------------------------> 10, 20   -------> Output is 0\n",
    "print(10&20)\n",
    "# 10 =  1010\n",
    "# 20 = 10100\n",
    "# -----------\n",
    "# &  = 00000\n",
    "print(0b00000) \n",
    "\n",
    "#Bitwise or(|)  -----------------------------------------> 10, 20   -------> Output is 30\n",
    "print(10|20)\n",
    "# 10 =  1010\n",
    "# 20 = 10100\n",
    "# -----------\n",
    "# |  = 11110\n",
    "print(0b11110)  \n",
    "\n",
    "#Bitwise(^)     -----------------------------------------> 10, 20   -------> Output is 30\n",
    "print(10^20)\n",
    "# 10 =  1010\n",
    "# 20 = 10100\n",
    "# -----------\n",
    "# ^  = 11110 \n",
    "print(0b11110) \n",
    "\n",
    "#Bitwise negation(~) ------------------------------------> 10       -------> Output is -11\n",
    "print(~10)\n",
    "# since n = -(n+1), 10=-(10+1)\n",
    "\n",
    "#Bitwise left shift  ------------------------------------> 10,2     -------> Output is 40\n",
    "print(10<<2)\n",
    "# 10 = 1010\n",
    "# <<2 = 101000\n",
    "print(0b101000)\n",
    "\n",
    "#Bitwise right shift ------------------------------------> 10,2     -------> Output is 2\n",
    "print(10>>2)\n",
    "# 10 = 1010\n",
    "# >>2 = 10\n",
    "print(0b10)\n",
    "#Cross check the output manually"
   ]
  },
  {
   "cell_type": "code",
   "execution_count": null,
   "metadata": {
    "colab": {
     "base_uri": "https://localhost:8080/",
     "height": 84
    },
    "colab_type": "code",
    "executionInfo": {
     "elapsed": 1162,
     "status": "ok",
     "timestamp": 1593631403165,
     "user": {
      "displayName": "Sureshkrishna K",
      "photoUrl": "https://lh3.googleusercontent.com/a-/AOh14Ghlb6-RdxEGYxEaVezys0OfL5gME8KBXXh3Hzy2pw=s64",
      "userId": "07302376301491105678"
     },
     "user_tz": -330
    },
    "id": "YCcx-Qx016hg",
    "outputId": "c022b3bb-0dd7-4cf0-c1dd-56be25906345"
   },
   "outputs": [
    {
     "name": "stdout",
     "output_type": "stream",
     "text": [
      "True\n",
      "False\n",
      "False\n",
      "True\n"
     ]
    }
   ],
   "source": [
    "#What is the output of expression inside print statement. Cross check before running the program.\n",
    "a = 10\n",
    "b = 10\n",
    "print(a is b)          #True or False? - True\n",
    "print(a is not b)      #True or False? - False\n",
    "\n",
    "a = 1000\n",
    "b = 1000\n",
    "print(a is b)          #True or False? - False \n",
    "print(a is not b)      #True or False? - True"
   ]
  },
  {
   "cell_type": "code",
   "execution_count": null,
   "metadata": {
    "colab": {
     "base_uri": "https://localhost:8080/",
     "height": 34
    },
    "colab_type": "code",
    "executionInfo": {
     "elapsed": 1068,
     "status": "ok",
     "timestamp": 1593631743319,
     "user": {
      "displayName": "Sureshkrishna K",
      "photoUrl": "https://lh3.googleusercontent.com/a-/AOh14Ghlb6-RdxEGYxEaVezys0OfL5gME8KBXXh3Hzy2pw=s64",
      "userId": "07302376301491105678"
     },
     "user_tz": -330
    },
    "id": "Un2To3XN1_Il",
    "outputId": "d49ca54f-97ec-4e18-b1c9-e7f52ba10bc8"
   },
   "outputs": [
    {
     "name": "stdout",
     "output_type": "stream",
     "text": [
      "20\n"
     ]
    }
   ],
   "source": [
    "#What is the output of expression inside print statement. Cross check before running the program.\n",
    "print(10+(10*32)//2**5&20+(~(-10))<<2)\n",
    "#20"
   ]
  },
  {
   "cell_type": "code",
   "execution_count": null,
   "metadata": {
    "colab": {
     "base_uri": "https://localhost:8080/",
     "height": 118
    },
    "colab_type": "code",
    "executionInfo": {
     "elapsed": 1294,
     "status": "ok",
     "timestamp": 1593631858185,
     "user": {
      "displayName": "Sureshkrishna K",
      "photoUrl": "https://lh3.googleusercontent.com/a-/AOh14Ghlb6-RdxEGYxEaVezys0OfL5gME8KBXXh3Hzy2pw=s64",
      "userId": "07302376301491105678"
     },
     "user_tz": -330
    },
    "id": "kGRb5RMd1_1I",
    "outputId": "da4ba8e9-1a83-4a22-cb22-81b316ad539e"
   },
   "outputs": [
    {
     "name": "stdout",
     "output_type": "stream",
     "text": [
      "True\n",
      "True\n",
      "True\n",
      "True\n",
      "True\n",
      "True\n"
     ]
    }
   ],
   "source": [
    "#Membership operation\n",
    "#in, not in are two membership operators and it returns boolean value\n",
    "\n",
    "print('2' in 'Python2.7.8')\n",
    "#True \n",
    "print(10 in [10,10.20,10+20j,'Python'])\n",
    "#True \n",
    "print(10 in (10,10.20,10+20j,'Python'))\n",
    "#True \n",
    "print(2 in {1,2,3})\n",
    "#True \n",
    "print(3 in {1:100, 2:200, 3:300})\n",
    "#True \n",
    "print(10 in range(20))\n",
    "#True "
   ]
  },
  {
   "cell_type": "code",
   "execution_count": null,
   "metadata": {
    "colab": {
     "base_uri": "https://localhost:8080/",
     "height": 67
    },
    "colab_type": "code",
    "executionInfo": {
     "elapsed": 970,
     "status": "ok",
     "timestamp": 1593632659659,
     "user": {
      "displayName": "Sureshkrishna K",
      "photoUrl": "https://lh3.googleusercontent.com/a-/AOh14Ghlb6-RdxEGYxEaVezys0OfL5gME8KBXXh3Hzy2pw=s64",
      "userId": "07302376301491105678"
     },
     "user_tz": -330
    },
    "id": "Es7iSvL92B9W",
    "outputId": "2396a78d-91f7-4754-ed2b-36c9c4bbdd45"
   },
   "outputs": [
    {
     "name": "stdout",
     "output_type": "stream",
     "text": [
      "0b10011010010100\n",
      "0o23224\n",
      "0x2694\n"
     ]
    }
   ],
   "source": [
    "#An integer can be represented in binary, octal or hexadecimal form.\n",
    "\n",
    "#Declare one binary, one octal and one hexadecimal value and store them in three different variables.\n",
    "bi = (0b1010001) #binary\n",
    "oc = (0o7654) #octal\n",
    "hx = (0xabc123) #hexadecimal\n",
    "\n",
    "#Convert 9876 to its binary, octal and hexadecimal equivalent and print their corresponding value.\n",
    "intt = 9876\n",
    "print(bin(intt))\n",
    "print(oct(intt))\n",
    "print(hex(intt))\n"
   ]
  },
  {
   "cell_type": "code",
   "execution_count": null,
   "metadata": {
    "colab": {},
    "colab_type": "code",
    "id": "Hm0r03lH2E0i"
   },
   "outputs": [],
   "source": [
    "#What will be the outut of following:-\n",
    "a = 0b1010000\n",
    "print(a)\n",
    "#integer value of a\n",
    "\n",
    "b = 0o7436\n",
    "print(b)\n",
    "#integer value of b\n",
    "\n",
    "c = 0xfade\n",
    "print(c)\n",
    "#integer value of b\n",
    "\n",
    "\n",
    "print(bin(80))\n",
    "#binary value of 80\n",
    "\n",
    "print(oct(3870))\n",
    "#octal value of 3870\n",
    "\n",
    "print(hex(64222))\n",
    "#hexadecimal value of 64222\n",
    "\n",
    "print(bin(0b1010000))\n",
    "#binary value\n",
    "\n",
    "print(bin(0xfade))\n",
    "#binary value of 0xfade\n",
    "\n",
    "print(oct(0xfade))\n",
    "#octal value of 0xfade\n",
    "\n",
    "print(oct(0o7436))\n",
    "#octal value\n",
    "\n",
    "print(hex(0b1010000))\n",
    "#hexadecimal value of 0b1010000\n",
    "\n",
    "print(hex(0xfade))\n",
    "#hexadecimal value"
   ]
  }
 ],
 "metadata": {
  "colab": {
   "collapsed_sections": [],
   "name": "Suresh_int_assignment.ipynb",
   "provenance": [
    {
     "file_id": "1xKTiwwjfS8osJMid7tI_vxldcTjwU-_B",
     "timestamp": 1593628455693
    }
   ]
  },
  "kernelspec": {
   "display_name": "Python 3",
   "language": "python",
   "name": "python3"
  },
  "language_info": {
   "codemirror_mode": {
    "name": "ipython",
    "version": 3
   },
   "file_extension": ".py",
   "mimetype": "text/x-python",
   "name": "python",
   "nbconvert_exporter": "python",
   "pygments_lexer": "ipython3",
   "version": "3.7.6"
  }
 },
 "nbformat": 4,
 "nbformat_minor": 1
}
