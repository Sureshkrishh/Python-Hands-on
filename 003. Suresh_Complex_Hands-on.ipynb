{
 "cells": [
  {
   "cell_type": "code",
   "execution_count": null,
   "metadata": {
    "colab": {
     "base_uri": "https://localhost:8080/",
     "height": 50
    },
    "colab_type": "code",
    "executionInfo": {
     "elapsed": 1392,
     "status": "ok",
     "timestamp": 1593713468875,
     "user": {
      "displayName": "Sureshkrishna K",
      "photoUrl": "https://lh3.googleusercontent.com/a-/AOh14Ghlb6-RdxEGYxEaVezys0OfL5gME8KBXXh3Hzy2pw=s64",
      "userId": "07302376301491105678"
     },
     "user_tz": -330
    },
    "id": "JoMbQLjK3uHZ",
    "outputId": "8d3bbc61-f1cd-42fb-c014-2fded0a5afa3"
   },
   "outputs": [
    {
     "name": "stdout",
     "output_type": "stream",
     "text": [
      "<class 'complex'>\n",
      "139792425369968\n"
     ]
    }
   ],
   "source": [
    "#Declare a complex number and store it in a variable. \n",
    "x = 100+20j\n",
    "\n",
    "#Check the type and print the id of the same.\n",
    "print(type(x))\n",
    "print(id(x))\n",
    "\n"
   ]
  },
  {
   "cell_type": "code",
   "execution_count": null,
   "metadata": {
    "colab": {
     "base_uri": "https://localhost:8080/",
     "height": 101
    },
    "colab_type": "code",
    "executionInfo": {
     "elapsed": 941,
     "status": "ok",
     "timestamp": 1593713619030,
     "user": {
      "displayName": "Sureshkrishna K",
      "photoUrl": "https://lh3.googleusercontent.com/a-/AOh14Ghlb6-RdxEGYxEaVezys0OfL5gME8KBXXh3Hzy2pw=s64",
      "userId": "07302376301491105678"
     },
     "user_tz": -330
    },
    "id": "6N6Ee4BU33jk",
    "outputId": "c888d6d1-4130-4579-8ad8-0eae8c5ab460"
   },
   "outputs": [
    {
     "name": "stdout",
     "output_type": "stream",
     "text": [
      "(40+40j)\n",
      "(20-20j)\n",
      "1000j\n",
      "(0.6-0.7999999999999999j)\n",
      "(64251185415.45109+1264916267.0141542j)\n"
     ]
    }
   ],
   "source": [
    "#Arithmatic Operations on complex number\n",
    "#Take two different complex number.\n",
    "#Store them in two different variables.\n",
    "a = 30+10j\n",
    "b = 10+30j\n",
    "\n",
    "#Do below operations on them:-\n",
    "    #Find sum of both numbers\n",
    "print(a+b)\n",
    "    #Find differce between them\n",
    "print(a-b)\n",
    "    #Find the product of both numbers.\n",
    "print(a*b)\n",
    "    #Find value after dividing first num with second number\n",
    "print(a/b)\n",
    "    #Find the result of first num to the power of second number.\n",
    "print(a**b)\n"
   ]
  },
  {
   "cell_type": "code",
   "execution_count": null,
   "metadata": {
    "colab": {},
    "colab_type": "code",
    "id": "xhkdg7LD352y"
   },
   "outputs": [],
   "source": [
    "#Comparison Operation not applicable between instance of complex values\n",
    "#Object reusability concept is not applicable on complex numebr\n",
    "\n"
   ]
  },
  {
   "cell_type": "code",
   "execution_count": null,
   "metadata": {
    "colab": {
     "base_uri": "https://localhost:8080/",
     "height": 50
    },
    "colab_type": "code",
    "executionInfo": {
     "elapsed": 1105,
     "status": "ok",
     "timestamp": 1593713715561,
     "user": {
      "displayName": "Sureshkrishna K",
      "photoUrl": "https://lh3.googleusercontent.com/a-/AOh14Ghlb6-RdxEGYxEaVezys0OfL5gME8KBXXh3Hzy2pw=s64",
      "userId": "07302376301491105678"
     },
     "user_tz": -330
    },
    "id": "4lzPH2sb38KM",
    "outputId": "729a68a5-5c6a-46a7-8688-47ce0c6f1e94"
   },
   "outputs": [
    {
     "name": "stdout",
     "output_type": "stream",
     "text": [
      "False\n",
      "True\n"
     ]
    }
   ],
   "source": [
    "#Equality Operator\n",
    "#Take two different complex numbers.\n",
    "#Store them in two different variables.\n",
    "u = 60 + 6j\n",
    "i = 28 + 12j\n",
    "#Equuate them using equality operator (==, !=)\n",
    "print(u==i)\n",
    "print(u!=i)\n",
    "#Observe the output(return type should be boolean)\n"
   ]
  },
  {
   "cell_type": "code",
   "execution_count": null,
   "metadata": {
    "colab": {
     "base_uri": "https://localhost:8080/",
     "height": 185
    },
    "colab_type": "code",
    "executionInfo": {
     "elapsed": 1047,
     "status": "ok",
     "timestamp": 1593713880471,
     "user": {
      "displayName": "Sureshkrishna K",
      "photoUrl": "https://lh3.googleusercontent.com/a-/AOh14Ghlb6-RdxEGYxEaVezys0OfL5gME8KBXXh3Hzy2pw=s64",
      "userId": "07302376301491105678"
     },
     "user_tz": -330
    },
    "id": "EDEl19UD3_tr",
    "outputId": "3dc48b6f-77db-4b25-93ab-25adae41843c"
   },
   "outputs": [
    {
     "name": "stdout",
     "output_type": "stream",
     "text": [
      "(20+30j)\n",
      "0j\n",
      "0j\n",
      "0j\n",
      "(10+20j)\n",
      "(20+30j)\n",
      "(20+30j)\n",
      "0j\n",
      "False\n",
      "True\n"
     ]
    }
   ],
   "source": [
    "#Logical operators\n",
    "#Observe the output of below code\n",
    "#Cross check the output manually\n",
    "\n",
    "print(10+20j and 20+30j)    #20+30j    #----------------------------------------->Output is 20+30j\n",
    "#True and True = True (Since first value is not false it looks for second value and prints it)\n",
    "\n",
    "print(0+0j and 20+30j)      #0+0j    #----------------------------------------->Output is 0j\n",
    "#False and True = False (Since first value is false it prints the first value)\n",
    "\n",
    "print(20+30j and 0+0j)      #0+0j   #----------------------------------------->Output is 0j\n",
    "#True and False = False (Since first value is not false it looks for second value and prints it)\n",
    "\n",
    "print(0+0j and 0+0j)        #0+0j   #----------------------------------------->Output is 0j\n",
    "#False and False = False (Since first value is false it prints the first value)\n",
    "\n",
    "print(10+20j or 20+30j)     #10+20j   #----------------------------------------->Output is 10+20j\n",
    "#True or True = True (Since first value is true it prints the first value)\n",
    "\n",
    "print(0+0j or 20+30j)       #20+30j   #----------------------------------------->Output is 20+30j\n",
    "#False or True = True (Since first value is not true it looks for the second value and prints it)\n",
    "\n",
    "print(20+30j or 0+0j)       #20+30j  #----------------------------------------->Output is 20+30j\n",
    "#True or False = True (Since first value is true it prints the first value)\n",
    "\n",
    "print(0+0j or 0+0j)         #0+0j   #----------------------------------------->Output is 0j\n",
    "#False or False = False (Since first value is not true it looks for the second value and prints it)\n",
    "\n",
    "\n",
    "print(not 10+20j)           #False   #----------------------------------------->Output is False\n",
    "#since the operand value is True it prints False\n",
    "print(not 0+0j)             #True   #----------------------------------------->Output is True\n",
    "#since the operand value is False it prints True"
   ]
  },
  {
   "cell_type": "code",
   "execution_count": null,
   "metadata": {
    "colab": {
     "base_uri": "https://localhost:8080/",
     "height": 50
    },
    "colab_type": "code",
    "executionInfo": {
     "elapsed": 968,
     "status": "ok",
     "timestamp": 1593713942927,
     "user": {
      "displayName": "Sureshkrishna K",
      "photoUrl": "https://lh3.googleusercontent.com/a-/AOh14Ghlb6-RdxEGYxEaVezys0OfL5gME8KBXXh3Hzy2pw=s64",
      "userId": "07302376301491105678"
     },
     "user_tz": -330
    },
    "id": "4ifueKbP4Br1",
    "outputId": "df0605cb-94ce-4d95-b381-31543c6339f3"
   },
   "outputs": [
    {
     "name": "stdout",
     "output_type": "stream",
     "text": [
      "False\n",
      "True\n"
     ]
    }
   ],
   "source": [
    "#What is the output of expression inside print statement. Cross check before running the program.\n",
    "a = 10+20j\n",
    "b = 10+20j\n",
    "print(a is b)         #True or False?\n",
    " #False\n",
    "print(a is not b)     #True or False?\n",
    " #True\n"
   ]
  },
  {
   "cell_type": "code",
   "execution_count": 1,
   "metadata": {
    "colab": {
     "base_uri": "https://localhost:8080/",
     "height": 118
    },
    "colab_type": "code",
    "executionInfo": {
     "elapsed": 1102,
     "status": "ok",
     "timestamp": 1596182459539,
     "user": {
      "displayName": "Sureshkrishna K",
      "photoUrl": "https://lh3.googleusercontent.com/a-/AOh14Ghlb6-RdxEGYxEaVezys0OfL5gME8KBXXh3Hzy2pw=s64",
      "userId": "07302376301491105678"
     },
     "user_tz": -330
    },
    "id": "TxMbr5jQ4Dwl",
    "outputId": "6553ad28-72a1-4541-cc10-43f65781ae68"
   },
   "outputs": [
    {
     "name": "stdout",
     "output_type": "stream",
     "text": [
      "True\n",
      "True\n",
      "True\n",
      "True\n",
      "True\n",
      "True\n"
     ]
    }
   ],
   "source": [
    "#Membership operation\n",
    "#in, not in are two membership operators and it returns boolean value\n",
    "\n",
    "print('2.7' in 'Python2.7.8')                      \n",
    "#True\n",
    "print(10+20j in [10,10.20,10+20j,'Python'])        \n",
    "#True\n",
    "print(10+20j in (10,10.20,10+20j,'Python'))       \n",
    "#True\n",
    "print(30+40j in {1,20.30,30+40j})                  \n",
    "#True\n",
    "print(30+40j in {1:100, 2.3:200, 30+40j:300})     \n",
    "#True\n",
    "print(10 in range(20))                             \n",
    "#True"
   ]
  }
 ],
 "metadata": {
  "colab": {
   "collapsed_sections": [],
   "name": "Suresh_Complex_Assignement.ipynb",
   "provenance": [
    {
     "file_id": "1IS_CNlNYJuVDKrvaQyBVuPbaZR0Ka5eS",
     "timestamp": 1593506603893
    }
   ]
  },
  "kernelspec": {
   "display_name": "Python 3",
   "language": "python",
   "name": "python3"
  },
  "language_info": {
   "codemirror_mode": {
    "name": "ipython",
    "version": 3
   },
   "file_extension": ".py",
   "mimetype": "text/x-python",
   "name": "python",
   "nbconvert_exporter": "python",
   "pygments_lexer": "ipython3",
   "version": "3.7.6"
  }
 },
 "nbformat": 4,
 "nbformat_minor": 1
}
