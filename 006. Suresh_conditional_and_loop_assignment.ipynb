{
 "cells": [
  {
   "cell_type": "markdown",
   "metadata": {
    "colab_type": "text",
    "id": "wNRNTbrsc53d"
   },
   "source": [
    "# If - elif - else statement"
   ]
  },
  {
   "cell_type": "code",
   "execution_count": 1,
   "metadata": {
    "colab": {},
    "colab_type": "code",
    "id": "MiPfTnBycxNa"
   },
   "outputs": [
    {
     "name": "stdout",
     "output_type": "stream",
     "text": [
      "Enter a number between 0 to 9: 6\n",
      "Six\n"
     ]
    }
   ],
   "source": [
    "#W. A P. which takes one number from 0 to 9 from the user and prints it in the word. And if the word is not from 0 to 9 then\n",
    "#it should print that number is outside of the range and program should exit.\n",
    "# For exapmple:- \n",
    "# input = 1\n",
    "# output = one\n",
    "\n",
    "num = int(input('Enter a number between 0 to 9: '))\n",
    "if num == 0:\n",
    "    print('Zero')\n",
    "elif num == 1:\n",
    "    print('One')\n",
    "elif num == 2:\n",
    "    print('Two')\n",
    "elif num == 3:\n",
    "    print('Three')\n",
    "elif num == 4:\n",
    "    print('Four')\n",
    "elif num == 5:\n",
    "    print('Five')\n",
    "elif num == 6:\n",
    "    print('Six')\n",
    "elif num == 7:\n",
    "    print('Seven')\n",
    "elif num == 8:\n",
    "    print('Eight')\n",
    "elif num == 9:\n",
    "    print('Nine')\n",
    "else:\n",
    "    print('Number not in range')\n"
   ]
  },
  {
   "cell_type": "code",
   "execution_count": 2,
   "metadata": {
    "colab": {},
    "colab_type": "code",
    "id": "vEMNOv9zdA39"
   },
   "outputs": [
    {
     "name": "stdout",
     "output_type": "stream",
     "text": [
      "Enter first number: 20\n",
      "Enter second number: 6\n",
      "\n",
      "\t\t To add enter 1\n",
      "\t\t To subtract enter 2\n",
      "\t\t To multiply enter 3\n",
      "\t\t To divide enter 4\n",
      "\t\t To divide and find quotient enter 5\n",
      "\t\t To divide and find remainder enter 6\n",
      "\t\t To divide and find num1 to the power of num2 enter 7\n",
      "\t\t To Come out of the program enter 8\n",
      "6\n",
      "reminder of 20 and 6 is 2\n"
     ]
    }
   ],
   "source": [
    "#W. A P. to implement calculator but the operation to be done and two numbers will be taken as input from user:-\n",
    "#Operation console should show below:-\n",
    "#     Please select any one operation from below:-\n",
    "#         * To add enter 1\n",
    "#         * to subtract enter 2\n",
    "#         * To multiply enter 3\n",
    "#         * To divide enter 4\n",
    "#         * To divide and find quotient enter 5\n",
    "#         * To divide and find remainder enter 6\n",
    "#         * To divide and find num1 to the power of num2 enter 7\n",
    "#         * To Come out of the program enter 8\n",
    "\n",
    "\n",
    "num1 = int(input('Enter first number: '))\n",
    "num2 = int(input('Enter second number: '))\n",
    "print('''\n",
    "\\t\\t To add enter 1\n",
    "\\t\\t To subtract enter 2\n",
    "\\t\\t To multiply enter 3\n",
    "\\t\\t To divide enter 4\n",
    "\\t\\t To divide and find quotient enter 5\n",
    "\\t\\t To divide and find remainder enter 6\n",
    "\\t\\t To divide and find num1 to the power of num2 enter 7\n",
    "\\t\\t To Come out of the program enter 8''')\n",
    "user = int(input())\n",
    "if user == 1:\n",
    "    print(f'sum of {num1} and {num2} is {num1+num2}')\n",
    "elif user == 2:\n",
    "    if num1 > num2:\n",
    "        print(f'differnce of {num1} and {num2} is {num1-num2}')\n",
    "    else:\n",
    "        print(f'differnce between {num2} and {num1} is {num2-num1}')\n",
    "elif user == 3:\n",
    "    print(f'product of {num1} and {num2} is {num1*num2}')\n",
    "elif user == 4:\n",
    "    print(f'division of {num1} and {num2} is {num1/num2}')\n",
    "elif user == 5:\n",
    "    print(f'quotient of {num1} and {num2} is {num1//num2}')\n",
    "elif user == 6:\n",
    "    print(f'reminder of {num1} and {num2} is {num1%num2}')\n",
    "elif user == 7:\n",
    "    print(f'division of {num1} and {num2} is {num1/num2}')\n",
    "    print(f'{num1} to the power {num2} is {num1**num2}')\n",
    "elif user == 8:\n",
    "    pass\n",
    "else:\n",
    "    print('''Input not in range\n",
    "Try between 1 to 8.''')\n"
   ]
  },
  {
   "cell_type": "code",
   "execution_count": 3,
   "metadata": {
    "colab": {},
    "colab_type": "code",
    "id": "1e2gwYLqdC1s"
   },
   "outputs": [
    {
     "name": "stdout",
     "output_type": "stream",
     "text": [
      "Enter a year: 2014\n",
      "2014 is a not leap year\n"
     ]
    }
   ],
   "source": [
    "#W A P to check whether a year entered by user is an leap year or not?\n",
    "#Check with below input:-\n",
    "    #leap year:- 2012, 1968, 2004, 1200, 1600,2400\n",
    "    #Non-lear year:- 1971, 2006, 1700,1800,1900\n",
    "    \n",
    "year = int(input('Enter a year: '))\n",
    "if year%4 == 0:\n",
    "    if year%100 == 0:\n",
    "        if year%400 == 0:\n",
    "            print(f'{year} is a leap year')\n",
    "        else:\n",
    "            print(f'{year} is a not leap year')\n",
    "    else:\n",
    "        print(f'{year} is a leap year')\n",
    "else:\n",
    "    print(f'{year} is a not leap year')"
   ]
  },
  {
   "cell_type": "code",
   "execution_count": 4,
   "metadata": {
    "colab": {},
    "colab_type": "code",
    "id": "_tpXv1EtdEre"
   },
   "outputs": [
    {
     "name": "stdout",
     "output_type": "stream",
     "text": [
      "Enter a number: 56\n",
      "56 is a even number\n"
     ]
    }
   ],
   "source": [
    "#W A P which takes one number from the user and checks whether it is an even or odd number?, If it even then prints number is \n",
    "#even number else prints that number is odd number.\n",
    "\n",
    "user = int(input('Enter a number: '))\n",
    "if user%2 == 0:\n",
    "    print(f'{user} is a even number')\n",
    "else:\n",
    "    print(f'{user} is a odd number')\n",
    "    "
   ]
  },
  {
   "cell_type": "code",
   "execution_count": 5,
   "metadata": {
    "colab": {},
    "colab_type": "code",
    "id": "Q1HumymCdG6i"
   },
   "outputs": [
    {
     "name": "stdout",
     "output_type": "stream",
     "text": [
      "Enter the first number: 12\n",
      "Enter the Second number: 45\n",
      "12 is smaller than 45\n",
      "\n",
      "12 is smaller than 45\n"
     ]
    }
   ],
   "source": [
    "#W A P which takes two numbers from the user and prints below output:-\n",
    "#     1. num1 is greater than num2 if num1 is greater than num2\n",
    "#     2. num1 is smaller than num2 if num1 is smaller than num2\n",
    "#     3. num1 is equal to num2 if num1 and num2 are equal\n",
    "\n",
    "#Note:- 1. Do this problem using if - else \n",
    "#       2. Do this using ternary operator\n",
    "\n",
    "num1 = int(input('Enter the first number: '))\n",
    "num2 = int(input('Enter the Second number: '))\n",
    "\n",
    "#if-elif-else\n",
    "\n",
    "if num1 > num2:\n",
    "    print(f'{num1} is greater than {num2}')\n",
    "elif num1 < num2:\n",
    "    print(f'{num1} is smaller than {num2}')\n",
    "else:\n",
    "    print(f'{num1} is equal to {num2}')\n",
    "\n",
    "print()\n",
    "#ternary operator\n",
    "    \n",
    "print(f'{num1} is greater than {num2}') if (num1 > num2) \\\n",
    "else print(f'{num1} is smaller than {num2}') if (num1<num2) \\\n",
    "else print(f'{num1} is equal to {num2}')\n"
   ]
  },
  {
   "cell_type": "code",
   "execution_count": 6,
   "metadata": {
    "colab": {},
    "colab_type": "code",
    "id": "LR6TVB-DdOPf"
   },
   "outputs": [
    {
     "name": "stdout",
     "output_type": "stream",
     "text": [
      "Enter the first number: 23\n",
      "Enter the second number: 89\n",
      "Enter the third number: 56\n",
      "89 is greater than 23 and 56\n",
      "89 is greater than 23 and 56\n"
     ]
    }
   ],
   "source": [
    "#W A P which takes three numbers from the user and prints below output:-\n",
    "#     1. num1 is greater than num2 and num3 if num1 is greater than num2 and num3\n",
    "#     2. num2 is greater than num1 and num3 if num2 is greater than num1 and num3\n",
    "#     3. num3 is greater than num1 and num2 if num3 is greater than num1 and num2\n",
    "\n",
    "#Note:- 1. Do this problem using if - elif - else \n",
    "#       2. Do this using ternary operator\n",
    "\n",
    "# a = a if a>b else b\n",
    "# expr if cond1 else expr2 if cond2 else expr3\n",
    "\n",
    "\n",
    "num1 = int(input('Enter the first number: '))\n",
    "num2 = int(input('Enter the second number: '))\n",
    "num3 = int(input('Enter the third number: '))\n",
    "\n",
    "if num1 > num2 and num1 > num3:\n",
    "    print(f'{num1} is greater than {num2} and {num3}')\n",
    "elif num2 > num3:\n",
    "    print(f'{num2} is greater than {num1} and {num3}')\n",
    "else:\n",
    "    print(f'{num3} is greater than {num1} and {num2}')\n",
    "    \n",
    "#ternary operator\n",
    "    \n",
    "print(f'{num1} is greater than {num2} and {num3}') \\\n",
    "if num1 > num2 and num1 > num3 \\\n",
    "else print(f'{num2} is greater than {num1} and {num3}') \\\n",
    "if num2 > num3 \\\n",
    "else print(f'{num3} is greater than {num1} and {num2}') \n"
   ]
  },
  {
   "cell_type": "markdown",
   "metadata": {
    "colab_type": "text",
    "id": "IoOLQMUGdSox"
   },
   "source": [
    "# Loops - for loop, while loop"
   ]
  },
  {
   "cell_type": "code",
   "execution_count": 7,
   "metadata": {
    "colab": {},
    "colab_type": "code",
    "id": "9K23Uld8dQfA"
   },
   "outputs": [
    {
     "name": "stdout",
     "output_type": "stream",
     "text": [
      "55\n"
     ]
    }
   ],
   "source": [
    "#Write a Python program to find the length of the my_str using loop:-\n",
    "\n",
    "#Input:- 'Write a Python program to find the length of the my_str'\n",
    "#Output:- 55\n",
    "\n",
    "my_str = 'Write a Python program to find the length of the my_str'\n",
    "\n",
    "for i in range(len(my_str)):\n",
    "    i += 1\n",
    "print(i)"
   ]
  },
  {
   "cell_type": "code",
   "execution_count": 8,
   "metadata": {
    "colab": {},
    "colab_type": "code",
    "id": "bp6AcqTsdYxy"
   },
   "outputs": [
    {
     "name": "stdout",
     "output_type": "stream",
     "text": [
      "9\n"
     ]
    }
   ],
   "source": [
    "#Write a Python program to find the total number of times letter 'p' is appeared in the below string using loop:-\n",
    "    \n",
    "#Input:- 'peter piper picked a peck of pickled peppers.\\n'\n",
    "#Output:- 9\n",
    "\n",
    "my_str = 'peter piper picked a peck of pickled peppers.'\n",
    "\n",
    "ind = 0\n",
    "for i in my_str:\n",
    "    if i == 'p':\n",
    "        ind += 1\n",
    "print(ind)"
   ]
  },
  {
   "cell_type": "code",
   "execution_count": 9,
   "metadata": {
    "colab": {},
    "colab_type": "code",
    "id": "xvxSBhTJdav1"
   },
   "outputs": [
    {
     "name": "stdout",
     "output_type": "stream",
     "text": [
      "0\n",
      "6\n",
      "8\n",
      "12\n",
      "21\n",
      "29\n",
      "37\n",
      "39\n",
      "40\n"
     ]
    }
   ],
   "source": [
    "#Write a Python Program, to print all the indexes of all occurences of letter 'p' appeared in the string using loop:-\n",
    "    \n",
    "#Input:- 'peter piper picked a peck of pickled peppers.'\n",
    "#Output:- \n",
    "# 0\n",
    "# 6\n",
    "# 8\n",
    "# 12\n",
    "# 21\n",
    "# 29\n",
    "# 37\n",
    "# 39\n",
    "# 40\n",
    "\n",
    "my_str = 'peter piper picked a peck of pickled peppers.'\n",
    "\n",
    "for i in range(len(my_str)):\n",
    "    if my_str[i] == 'p':\n",
    "        print(i)"
   ]
  },
  {
   "cell_type": "code",
   "execution_count": 3,
   "metadata": {
    "colab": {},
    "colab_type": "code",
    "id": "79L_feMadbmw"
   },
   "outputs": [
    {
     "name": "stdout",
     "output_type": "stream",
     "text": [
      "['peter', 'piper', 'picked', 'a', 'peck', 'of', 'pickled', 'peppers']\n"
     ]
    }
   ],
   "source": [
    "#Write a python program to find below output using loop:-\n",
    "\n",
    "#Input:- 'peter piper picked a peck of pickled peppers.'\n",
    "#Output:- ['peter', 'piper', 'picked', 'a', 'peck', 'of', 'pickled', 'peppers']\n",
    "\n",
    "my_str = 'peter piper picked a peck of pickled peppers.'\n",
    "\n",
    "my_lst = []\n",
    "my_estr = ''\n",
    "\n",
    "for i in my_str:\n",
    "    if i == ' ' or i == '.':\n",
    "        my_lst.append(my_estr)\n",
    "        my_estr = ''\n",
    "    else:\n",
    "        my_estr += i\n",
    "        \n",
    "print(my_lst)"
   ]
  },
  {
   "cell_type": "code",
   "execution_count": 4,
   "metadata": {
    "colab": {},
    "colab_type": "code",
    "id": "vzs5AJ53deVS"
   },
   "outputs": [
    {
     "name": "stdout",
     "output_type": "stream",
     "text": [
      "peppers pickled of peck a picked piper peter\n"
     ]
    }
   ],
   "source": [
    "#Write a python program to find below output using loop:-\n",
    "\n",
    "#Input:- 'peter piper picked a peck of pickled peppers.'\n",
    "#Output:- 'peppers pickled of peck a picked piper peter'\n",
    "\n",
    "out = ''\n",
    "for i in my_lst[::-1]:\n",
    "    out = out + ' ' + i\n",
    "out = out.strip()\n",
    "\n",
    "print(out)"
   ]
  },
  {
   "cell_type": "code",
   "execution_count": 3,
   "metadata": {
    "colab": {},
    "colab_type": "code",
    "id": "i-HP7DrCdhwS"
   },
   "outputs": [
    {
     "name": "stdout",
     "output_type": "stream",
     "text": [
      ".sreppep delkcip fo kcep a dekcip repip retep\n"
     ]
    }
   ],
   "source": [
    "#Write a python program to find below output using loop:-\n",
    "\n",
    "#Input:- 'peter piper picked a peck of pickled peppers.'\n",
    "#Output:- '.sreppep delkcip fo kcep a dekcip repip retep'\n",
    "\n",
    "user='peter piper picked a peck of pickled peppers.'\n",
    "out = ''\n",
    "for i in user:\n",
    "    out = i + out\n",
    "print(out)"
   ]
  },
  {
   "cell_type": "code",
   "execution_count": 1,
   "metadata": {
    "colab": {},
    "colab_type": "code",
    "id": "3rt6p0ytdkq0"
   },
   "outputs": [
    {
     "name": "stdout",
     "output_type": "stream",
     "text": [
      "retep repip dekcip a kcep fo delkcip sreppep\n"
     ]
    }
   ],
   "source": [
    "#Write a python program to find below output:-\n",
    "\n",
    "#Input:- 'peter piper picked a peck of pickled peppers.'\n",
    "#Output:- 'retep repip dekcip a kcep fo delkcip sreppep'\n",
    "\n",
    "user = 'peter piper picked a peck of pickled peppers.'\n",
    "\n",
    "lst = []\n",
    "ot = ''\n",
    "\n",
    "for i in user:\n",
    "    if i == ' ' or  i == '.':\n",
    "        lst.append(ot)\n",
    "        ot=''\n",
    "    else:\n",
    "        ot = i + ot\n",
    "        \n",
    "new_ot=''\n",
    "for i in lst:\n",
    "    new_ot = new_ot + ' ' + i\n",
    "new_ot = new_ot.strip()\n",
    "\n",
    "print(new_ot)"
   ]
  },
  {
   "cell_type": "code",
   "execution_count": 2,
   "metadata": {
    "colab": {},
    "colab_type": "code",
    "id": "Kq_fwdb_dvYE"
   },
   "outputs": [
    {
     "name": "stdout",
     "output_type": "stream",
     "text": [
      "Peter Piper Picked A Pack Of Pickled Peppers \n"
     ]
    }
   ],
   "source": [
    "#Write a python program to implement replace method using loop. If sub_str is found in my_str then it will replace the first \n",
    "#occurrence of sub_str with new_str else it will will print sub_str not found:-\n",
    "\n",
    "#Input:- my_str = 'Peter Piper Picked A Peck Of Pickled Peppers.', sub_str = 'Peck', new_str = 'Pack'\n",
    "#Output:- 'Peter Piper Picked A Pack Of Pickled Peppers.'\n",
    "\n",
    "input_str = 'Peter Piper Picked A Peck Of Pickled Peppers.'\n",
    "sub_str = 'Peck'\n",
    "new_str = 'Pack'\n",
    "estr = ''\n",
    "str_list = []\n",
    "\n",
    "for i in input_str:\n",
    "    if i == ' ' or i == '.':\n",
    "        str_list.append(estr)\n",
    "        estr = ''\n",
    "    else:\n",
    "        estr += i\n",
    "count = 0\n",
    "for i in str_list:\n",
    "    if i == sub_str:\n",
    "        str_list[count] = new_str\n",
    "    count += 1\n",
    "out = ''\n",
    "for q in str_list:\n",
    "    out = out + q + ' '\n",
    "    \n",
    "print(out)"
   ]
  },
  {
   "cell_type": "code",
   "execution_count": 14,
   "metadata": {
    "colab": {},
    "colab_type": "code",
    "id": "jRnBVufmd2Ay"
   },
   "outputs": [
    {
     "name": "stdout",
     "output_type": "stream",
     "text": [
      "R{vjqp\n",
      "Rwvfql\n",
      "R{vfml\n"
     ]
    }
   ],
   "source": [
    "#Write a python program which takes one input string from user and encode it in below format:-\n",
    "    \n",
    "# 1. #Input:- 'Python'\n",
    "#Output:- 'R{vjqp'\n",
    "        \n",
    "my_str = 'Python'\n",
    "s = ''\n",
    "for i in range(len(my_str)):\n",
    "    s += (chr(ord(my_str[i])+2))\n",
    "print(s)\n",
    "\n",
    "        \n",
    "        \n",
    "# 2. #Input:- 'Python'\n",
    "   #Output:- 'Rwvfql'\n",
    "    \n",
    "s1 = ''\n",
    "for i in range(len(my_str)):\n",
    "    if i%2 == 0:\n",
    "        s1 += (chr(ord(my_str[i])+2))\n",
    "    else:\n",
    "        s1 += (chr(ord(my_str[i])-2))\n",
    "print(s1)\n",
    "        \n",
    "        \n",
    "        \n",
    "        \n",
    "# 3. #Input:- 'Python'\n",
    "   #Output:- 'R{vfml'\n",
    "    \n",
    "s2 = ''\n",
    "for i in range(0,len(my_str)):\n",
    "    if i < (len(my_str)/2):\n",
    "        s2 += (chr(ord(my_str[i])+2))\n",
    "    else:\n",
    "        s2 += (chr(ord(my_str[i])-2))\n",
    "print(s2)\n",
    "\n"
   ]
  }
 ],
 "metadata": {
  "colab": {
   "name": "Copy of Conditional_and_loop_assignment.ipynb",
   "provenance": [
    {
     "file_id": "18jvHbu1SvTgDGxU-uNloDb4lsxEE4EmO",
     "timestamp": 1596689710258
    }
   ]
  },
  "kernelspec": {
   "display_name": "Python 3",
   "language": "python",
   "name": "python3"
  },
  "language_info": {
   "codemirror_mode": {
    "name": "ipython",
    "version": 3
   },
   "file_extension": ".py",
   "mimetype": "text/x-python",
   "name": "python",
   "nbconvert_exporter": "python",
   "pygments_lexer": "ipython3",
   "version": "3.8.10"
  }
 },
 "nbformat": 4,
 "nbformat_minor": 1
}
