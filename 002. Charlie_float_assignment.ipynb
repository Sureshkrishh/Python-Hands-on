{
 "cells": [
  {
   "cell_type": "code",
   "execution_count": 2,
   "metadata": {
    "colab": {
     "base_uri": "https://localhost:8080/",
     "height": 50
    },
    "colab_type": "code",
    "executionInfo": {
     "elapsed": 1826,
     "status": "ok",
     "timestamp": 1593711496664,
     "user": {
      "displayName": "Sureshkrishna K",
      "photoUrl": "https://lh3.googleusercontent.com/a-/AOh14Ghlb6-RdxEGYxEaVezys0OfL5gME8KBXXh3Hzy2pw=s64",
      "userId": "07302376301491105678"
     },
     "user_tz": -330
    },
    "id": "dlrMB-Qy2taV",
    "outputId": "14a7ea66-7c6b-4b08-9458-1ddc503acd04"
   },
   "outputs": [
    {
     "name": "stdout",
     "output_type": "stream",
     "text": [
      "<class 'float'>\n",
      "1769433878480\n"
     ]
    }
   ],
   "source": [
    "#Declare a float value and store it in a variable. \n",
    "x = 10.32\n",
    "\n",
    "\n",
    "\n",
    "#Check the type and print the id of the same.\n",
    "print(type(x))\n",
    "print(id(x))\n",
    "\n"
   ]
  },
  {
   "cell_type": "code",
   "execution_count": null,
   "metadata": {
    "colab": {
     "base_uri": "https://localhost:8080/",
     "height": 134
    },
    "colab_type": "code",
    "executionInfo": {
     "elapsed": 1014,
     "status": "ok",
     "timestamp": 1593711852413,
     "user": {
      "displayName": "Sureshkrishna K",
      "photoUrl": "https://lh3.googleusercontent.com/a-/AOh14Ghlb6-RdxEGYxEaVezys0OfL5gME8KBXXh3Hzy2pw=s64",
      "userId": "07302376301491105678"
     },
     "user_tz": -330
    },
    "id": "IL4fVDHg2wbI",
    "outputId": "129a71f0-e65c-4f3b-a7b2-31028df0098d"
   },
   "outputs": [
    {
     "name": "stdout",
     "output_type": "stream",
     "text": [
      "91.0\n",
      "30.0\n",
      "1845.25\n",
      "1.9836065573770492\n",
      "1.0\n",
      "30.0\n",
      "2.2056618265173234e+54\n"
     ]
    }
   ],
   "source": [
    "#Arithmatic Operations on float\n",
    "#Take two different float values.\n",
    "#Store them in two different variables.\n",
    "a = 60.5\n",
    "b = 30.5\n",
    "\n",
    "#Do below operations on them:-\n",
    "\n",
    "#Find sum of both numbers\n",
    "print(a+b)\n",
    "\n",
    "#Find differce between them\n",
    "print(a-b)\n",
    "\n",
    "#Find the product of both numbers.\n",
    "print(a*b)\n",
    "\n",
    "#Find value after dividing first num with second number\n",
    "print(a/b)\n",
    "\n",
    "#Find the remainder after dividing first number with second number\n",
    "print(a//b)\n",
    "\n",
    "#Find the quotient after dividing first number with second number\n",
    "print(a%b)\n",
    "\n",
    "#Find the result of first num to the power of second number.\n",
    "print(a**b)"
   ]
  },
  {
   "cell_type": "code",
   "execution_count": null,
   "metadata": {
    "colab": {
     "base_uri": "https://localhost:8080/",
     "height": 84
    },
    "colab_type": "code",
    "executionInfo": {
     "elapsed": 1198,
     "status": "ok",
     "timestamp": 1593712049728,
     "user": {
      "displayName": "Sureshkrishna K",
      "photoUrl": "https://lh3.googleusercontent.com/a-/AOh14Ghlb6-RdxEGYxEaVezys0OfL5gME8KBXXh3Hzy2pw=s64",
      "userId": "07302376301491105678"
     },
     "user_tz": -330
    },
    "id": "atCFaH6c2492",
    "outputId": "63b31905-5756-4e14-ac54-a19d5d329e3b"
   },
   "outputs": [
    {
     "name": "stdout",
     "output_type": "stream",
     "text": [
      "True\n",
      "False\n",
      "True\n",
      "False\n"
     ]
    }
   ],
   "source": [
    "#Comparison Operators on float\n",
    "#Take two different float values.\n",
    "#Store them in two different variables.\n",
    "u = 20.35\n",
    "i = 12.89\n",
    "\n",
    "#Do below operations on them:-\n",
    "    #Compare these two numbers with below operator:-\n",
    "        #Greater than, '>'\n",
    "print(u > i)\n",
    "        #Smaller than, '<'\n",
    "print(u < i)\n",
    "        #Greater than or equal to, '>='\n",
    "print(u >= i)\n",
    "        #Less than or equal to, '<='\n",
    "print(u <= i)\n",
    "#Observe their output(return type should be boolean)\n",
    "\n"
   ]
  },
  {
   "cell_type": "code",
   "execution_count": null,
   "metadata": {
    "colab": {
     "base_uri": "https://localhost:8080/",
     "height": 50
    },
    "colab_type": "code",
    "executionInfo": {
     "elapsed": 1224,
     "status": "ok",
     "timestamp": 1593712153945,
     "user": {
      "displayName": "Sureshkrishna K",
      "photoUrl": "https://lh3.googleusercontent.com/a-/AOh14Ghlb6-RdxEGYxEaVezys0OfL5gME8KBXXh3Hzy2pw=s64",
      "userId": "07302376301491105678"
     },
     "user_tz": -330
    },
    "id": "agi3U3863A5i",
    "outputId": "370aa598-397e-404a-c253-92ebeaac5a54"
   },
   "outputs": [
    {
     "name": "stdout",
     "output_type": "stream",
     "text": [
      "False\n",
      "True\n"
     ]
    }
   ],
   "source": [
    "#Equality Operator\n",
    "#Take two different float values.\n",
    "#Store them in two different variables.\n",
    "\n",
    "m = 50.0003\n",
    "n = 18.8889\n",
    "\n",
    "#Equuate them using equality operator (==, !=)\n",
    "\n",
    "print(m == n)\n",
    "print(m != n)\n",
    "\n",
    "#Observe the output(return type should be boolean)\n"
   ]
  },
  {
   "cell_type": "code",
   "execution_count": null,
   "metadata": {
    "colab": {
     "base_uri": "https://localhost:8080/",
     "height": 185
    },
    "colab_type": "code",
    "executionInfo": {
     "elapsed": 1548,
     "status": "ok",
     "timestamp": 1593712970973,
     "user": {
      "displayName": "Sureshkrishna K",
      "photoUrl": "https://lh3.googleusercontent.com/a-/AOh14Ghlb6-RdxEGYxEaVezys0OfL5gME8KBXXh3Hzy2pw=s64",
      "userId": "07302376301491105678"
     },
     "user_tz": -330
    },
    "id": "3HLlgaEt3EnJ",
    "outputId": "cd8a7e4b-7012-4e58-a9c3-ed196af8633f"
   },
   "outputs": [
    {
     "name": "stdout",
     "output_type": "stream",
     "text": [
      "20.3\n",
      "0.0\n",
      "0.0\n",
      "0.0\n",
      "10.2\n",
      "20.3\n",
      "20.3\n",
      "0.0\n",
      "False\n",
      "True\n"
     ]
    }
   ],
   "source": [
    "#Logical operators\n",
    "#Observe the output of below code\n",
    "#Cross check the output manually\n",
    "\n",
    "print(10.20 and 20.30)       #both are true and second value taken >Output is 20.3\n",
    "#True and True = True (Since first value is not false it looks for second value and prints it)\n",
    "\n",
    "print(0.0 and 20.30)         #First is false so first value taken->Output is 0.0\n",
    "#False and True = False (Since first value is false it prints the first value)\n",
    "\n",
    "print(20.30 and 0.0)         #Goes to till second and second value is false so second is taken>Output is 0.0\n",
    "#True and False = False (Since first value is not false it looks for second value and prints it)\n",
    "\n",
    "print(0.0 and 0.0)           #First is false so first value is taken->Output is 0.0\n",
    "#False and False = False (Since first value is false it prints the first value)\n",
    "\n",
    "print(10.20 or 20.30)        #First is True so first value is taken>Output is 10.2\n",
    "#True or True = True (Since first value is true it prints the first value)\n",
    "\n",
    "print(0.0 or 20.30)          #Goes to till second and second is true second value is taken->Output is 20.3\n",
    "#False or True = True (Since first value is not true it looks for the second value and prints it)\n",
    "\n",
    "print(20.30 or 0.0)          #First is True so first value is taken->Output is 20.3\n",
    "#True or False = True (Since first value is true it prints the first value)\n",
    "\n",
    "print(0.0 or 0.0)            #Goes to till second and secod is also false and second value is taken>Output is 0.0\n",
    "#False or False = False (Since first value is not true it looks for the second value and prints it)\n",
    "\n",
    "print(not 10.20)             #-Not of true is false->Output is False\n",
    "#since the operand value is True it prints False\n",
    "\n",
    "print(not 0.0)               #Not of false is True>Output is True\n",
    "#since the operand value is False it prints True"
   ]
  },
  {
   "cell_type": "code",
   "execution_count": null,
   "metadata": {
    "colab": {
     "base_uri": "https://localhost:8080/",
     "height": 50
    },
    "colab_type": "code",
    "executionInfo": {
     "elapsed": 1152,
     "status": "ok",
     "timestamp": 1593712901197,
     "user": {
      "displayName": "Sureshkrishna K",
      "photoUrl": "https://lh3.googleusercontent.com/a-/AOh14Ghlb6-RdxEGYxEaVezys0OfL5gME8KBXXh3Hzy2pw=s64",
      "userId": "07302376301491105678"
     },
     "user_tz": -330
    },
    "id": "7YdyRNtk3UZd",
    "outputId": "890ce53d-b312-40d5-a489-c9c1cb250a3f"
   },
   "outputs": [
    {
     "name": "stdout",
     "output_type": "stream",
     "text": [
      "False\n",
      "True\n"
     ]
    }
   ],
   "source": [
    "#What is the output of expression inside print statement. Cross check before running the program.\n",
    "a = 10.20\n",
    "b = 10.20\n",
    "print(a is b)          #True or False? True 10.20<256\n",
    "print(a is not b)      #True or False? False\n",
    "\n",
    "\n",
    "# Why is the Id of float values are different when the same value is assigned to two different variables\n",
    "# ex: a = 10.5 b=10.5. but id will be same if I assign the variable having float i.e. a=c then both a anc c's\n",
    "# Id are same\n",
    "\n",
    "\n",
    "                         "
   ]
  },
  {
   "cell_type": "code",
   "execution_count": null,
   "metadata": {
    "colab": {},
    "colab_type": "code",
    "id": "iTvnIMLd3VLW"
   },
   "outputs": [],
   "source": [
    "#Bitwise operation is not applicable between instances of float.\n",
    "## Why the Id of float values are different when the same value is assigned to two different variables\n",
    "## ex: a = 10.5 b=10.5. but id will be same if I assign the variable having float i.e. a=c then both a anc c's\n",
    "## Id are same\n",
    "#Object reusability concept is not applicable on float values."
   ]
  },
  {
   "cell_type": "code",
   "execution_count": null,
   "metadata": {
    "colab": {
     "base_uri": "https://localhost:8080/",
     "height": 118
    },
    "colab_type": "code",
    "executionInfo": {
     "elapsed": 1337,
     "status": "ok",
     "timestamp": 1593713246895,
     "user": {
      "displayName": "Sureshkrishna K",
      "photoUrl": "https://lh3.googleusercontent.com/a-/AOh14Ghlb6-RdxEGYxEaVezys0OfL5gME8KBXXh3Hzy2pw=s64",
      "userId": "07302376301491105678"
     },
     "user_tz": -330
    },
    "id": "29AVJHpx3YUo",
    "outputId": "294007b1-ae51-4e86-dbcd-4f4cbcfa88e5"
   },
   "outputs": [
    {
     "name": "stdout",
     "output_type": "stream",
     "text": [
      "True\n",
      "True\n",
      "True\n",
      "True\n",
      "True\n",
      "True\n"
     ]
    }
   ],
   "source": [
    "#Membership operation\n",
    "#in, not in are two membership operators and it returns boolean value\n",
    "\n",
    "print('2.7' in 'Python2.7.8')              \n",
    "#True\n",
    "print(10.20 in [10,10.20,10+20j,'Python']) \n",
    "#True\n",
    "print(10.20 in (10,10.20,10+20j,'Python')) \n",
    "# True\n",
    "print(20.30 in {1,20.30,30+40j})           \n",
    "# True\n",
    "print(2.3 in {1:100, 2.3:200, 30+40j:300}) \n",
    "# True\n",
    "print(10 in range(20))                     \n",
    "# True"
   ]
  }
 ],
 "metadata": {
  "colab": {
   "collapsed_sections": [],
   "name": "Suresh_float_assignment.ipynb",
   "provenance": [
    {
     "file_id": "1M6Pl0S40J_yaLQtCoOeeEANYc_4k6uoA",
     "timestamp": 1593506553403
    }
   ]
  },
  "kernelspec": {
   "display_name": "Python 3",
   "language": "python",
   "name": "python3"
  },
  "language_info": {
   "codemirror_mode": {
    "name": "ipython",
    "version": 3
   },
   "file_extension": ".py",
   "mimetype": "text/x-python",
   "name": "python",
   "nbconvert_exporter": "python",
   "pygments_lexer": "ipython3",
   "version": "3.7.6"
  }
 },
 "nbformat": 4,
 "nbformat_minor": 1
}
